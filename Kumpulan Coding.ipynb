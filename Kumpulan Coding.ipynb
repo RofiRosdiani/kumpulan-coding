{
 "cells": [
  {
   "cell_type": "code",
   "execution_count": null,
   "metadata": {},
   "outputs": [],
   "source": [
    "#Check Misssing value\n",
    "missing_data = df.isnull()\n",
    "missing_data.head(15)\n",
    "\n",
    "#Count missing values in each column\n",
    "for column in missing_data.columns.values.tolist():\n",
    "    print(column)\n",
    "    print (missing_data[column].value_counts())\n",
    "    print(\"\")"
   ]
  },
  {
   "cell_type": "code",
   "execution_count": null,
   "metadata": {},
   "outputs": [],
   "source": [
    "#CARA MENGHILANGKAN NAN / DROPNA\n",
    "data_merge.dropna(inplace=True)\n",
    "data_merge"
   ]
  },
  {
   "cell_type": "code",
   "execution_count": null,
   "metadata": {},
   "outputs": [],
   "source": [
    "#CARA MENAMPILKAN NAMA KOLOM\n",
    "df = data3\n",
    "df.columns"
   ]
  },
  {
   "cell_type": "code",
   "execution_count": null,
   "metadata": {},
   "outputs": [],
   "source": [
    "#CARA MENAMPILKAN HASIL SAMPLE\n",
    "df.sample(5)"
   ]
  },
  {
   "cell_type": "code",
   "execution_count": null,
   "metadata": {},
   "outputs": [],
   "source": [
    "#CARA MENAMPILKAN ISI KOLOM\n",
    "df['neighbourhood']\n",
    "\n",
    "#CARA MENAMPILKAN MULTIPLE COLUMNS\n",
    "data[['CostPerTransaction','SalesPerTransaction']].head(6)"
   ]
  },
  {
   "cell_type": "code",
   "execution_count": null,
   "metadata": {},
   "outputs": [],
   "source": [
    "#CARA MENAMPILKAN BEBERAPA KOLOM YANG DIPILIH\n",
    "trend2 = datamerge4[['date', 'price', 'neighbourhood', 'neighbourhood_group']]\n",
    "trend2"
   ]
  },
  {
   "cell_type": "code",
   "execution_count": null,
   "metadata": {},
   "outputs": [],
   "source": [
    "#CARA FILTER UNTUK MENAMPILKAN VALUE PADA KOLOM TERTENTU\n",
    "df = data3\n",
    "df[df.neighbourhood_group == \"West Region\"]"
   ]
  },
  {
   "cell_type": "code",
   "execution_count": null,
   "metadata": {},
   "outputs": [],
   "source": [
    "#CARA MENYIMPAN HASIL FILTER TERSEBUT\n",
    "west_region = df[df.neighbourhood_group == \"West Region\"]\n",
    "west_region"
   ]
  },
  {
   "cell_type": "code",
   "execution_count": null,
   "metadata": {},
   "outputs": [],
   "source": [
    "#CARA MELIHAT ISI KOLOM TANPA DUPLIKASI ATAU DISTINGUISH / UNIQUE\n",
    "datamerge2['neighbourhood_group'].unique()"
   ]
  },
  {
   "cell_type": "code",
   "execution_count": null,
   "metadata": {},
   "outputs": [],
   "source": [
    "#CARA MERGE\n",
    "datamerge4 = data2.merge(data3, how='left', on='neighbourhood')\n",
    "datamerge4.head()"
   ]
  },
  {
   "cell_type": "code",
   "execution_count": null,
   "metadata": {},
   "outputs": [],
   "source": [
    "#Convert series date (object) to datetime\n",
    "datamerge1['date'] = pd.to_datetime(datamerge1['date'])\n",
    "datamerge1.info()\n",
    "or\n",
    "from datetime import datetime\n",
    "data['date3'] = pd.to_datetime(data['date'], format = '%Y/%b/%d').dt.date"
   ]
  },
  {
   "cell_type": "code",
   "execution_count": null,
   "metadata": {},
   "outputs": [],
   "source": [
    "#CARA MENAMPILKAN GRAFIK LINE CHART DENGAN MATPLOTLIB DAN SEABORN (ADA HUE NYA)\n",
    "import matplotlib.pyplot as plt\n",
    "import seaborn as sns\n",
    "\n",
    "plt.figure(figsize=(15,6))\n",
    "sns.lineplot(x='date', y='price', data=north_east_region, hue='neighbourhood')\n",
    "plt.xticks(rotation=90)\n",
    "plt.xlabel('Tangal Penyewaan')\n",
    "plt.ylabel('Price')\n",
    "plt.title('Trend Harga pada North East Region')\n",
    "plt.show\n"
   ]
  }
 ],
 "metadata": {
  "kernelspec": {
   "display_name": "Python 3",
   "language": "python",
   "name": "python3"
  },
  "language_info": {
   "name": "python",
   "version": "3.11.1 (tags/v3.11.1:a7a450f, Dec  6 2022, 19:58:39) [MSC v.1934 64 bit (AMD64)]"
  },
  "orig_nbformat": 4,
  "vscode": {
   "interpreter": {
    "hash": "1682e5d06a6d97c1b1cf6bb4ae6cf16223e994936ddb1d53664597d7d46101fa"
   }
  }
 },
 "nbformat": 4,
 "nbformat_minor": 2
}
